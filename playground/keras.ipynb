{
 "cells": [
  {
   "cell_type": "code",
   "execution_count": null,
   "metadata": {
    "collapsed": false
   },
   "outputs": [],
   "source": [
    "%matplotlib notebook\n",
    "import matplotlib.pyplot as plt\n",
    "from playground import DataGenerator\n",
    "\n",
    "datasets = DataGenerator()\n",
    "\n",
    "fig = plt.figure('Available Datasets')\n",
    "for i, name in enumerate(['circle', 'xor', 'gauss', 'spiral']):\n",
    "    data, labels = getattr(datasets, name)(200)\n",
    "    axis = plt.subplot(221+i)\n",
    "    axis.set_title(name)\n",
    "    axis.scatter(*zip(*data), c=labels, cmap='bwr')\n",
    "fig.canvas.draw()"
   ]
  },
  {
   "cell_type": "code",
   "execution_count": null,
   "metadata": {
    "collapsed": false
   },
   "outputs": [],
   "source": [
    "from keras.models import Sequential\n",
    "from keras.layers.core import Dense, Activation\n",
    "from keras.optimizers import SGD\n",
    "\n",
    "# Choose dataset here.\n",
    "# datasets.circle(), datasets.xor(), datasets.gauss(), datasets.spiral()\n",
    "data, labels = datasets.gauss()\n",
    "\n",
    "model = Sequential([\n",
    "    Dense(4, input_dim=2),\n",
    "    Activation('relu'),\n",
    "    Dense(1),\n",
    "    Activation('relu'),\n",
    "])\n",
    "\n",
    "print(model.summary())\n",
    "\n",
    "sgd = SGD(lr=0.01, momentum=0.0, decay=0.0, nesterov=False)\n",
    "model.compile(optimizer=sgd, loss='mean_squared_error', metrics=['accuracy'])\n",
    "\n",
    "model.fit(\n",
    "    data, \n",
    "    labels,\n",
    "    batch_size=10,\n",
    "    nb_epoch=1000, \n",
    "    verbose=0, \n",
    "    shuffle=True, \n",
    "    validation_split=0\n",
    ")\n",
    "\n",
    "fig = plt.figure('Predictions')\n",
    "plt.scatter(*zip(*data), c=model.predict(data), cmap='bwr')\n",
    "fig.canvas.draw()"
   ]
  }
 ],
 "metadata": {
  "kernelspec": {
   "display_name": "Python 3",
   "language": "python",
   "name": "python3"
  },
  "language_info": {
   "codemirror_mode": {
    "name": "ipython",
    "version": 3
   },
   "file_extension": ".py",
   "mimetype": "text/x-python",
   "name": "python",
   "nbconvert_exporter": "python",
   "pygments_lexer": "ipython3",
   "version": "3.5.1"
  }
 },
 "nbformat": 4,
 "nbformat_minor": 0
}
