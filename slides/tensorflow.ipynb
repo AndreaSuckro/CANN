{
 "cells": [
  {
   "cell_type": "markdown",
   "metadata": {},
   "source": [
    "# Code from the slides"
   ]
  },
  {
   "cell_type": "code",
   "execution_count": null,
   "metadata": {
    "collapsed": false
   },
   "outputs": [],
   "source": [
    "import tensorflow as tf\n",
    "\n",
    "x = tf.placeholder(tf.int32, shape=(1), name='x')\n",
    "y = x*2\n",
    "\n",
    "sess = tf.Session()\n",
    "tf.train.SummaryWriter('./logs/tf', sess.graph)\n",
    "sess.run(tf.initialize_all_variables())\n",
    "\n",
    "sess.run(y, feed_dict={x:[2]}) \n",
    "# [4]"
   ]
  },
  {
   "cell_type": "code",
   "execution_count": null,
   "metadata": {
    "collapsed": false
   },
   "outputs": [],
   "source": [
    "import tensorflow as tf\n",
    "\n",
    "x = tf.placeholder(tf.int32, shape=(None,1), name='x')\n",
    "y = x*2\n",
    "\n",
    "sess = tf.Session()\n",
    "tf.train.SummaryWriter('./logs/tf', sess.graph)\n",
    "sess.run(tf.initialize_all_variables())\n",
    "\n",
    "sess.run(y, {x: [[0],[1],[2],[3]]})\n",
    "# [[0],[2],[4],[6]]"
   ]
  },
  {
   "cell_type": "code",
   "execution_count": null,
   "metadata": {
    "collapsed": false
   },
   "outputs": [],
   "source": [
    "import tensorflow as tf\n",
    "\n",
    "a = tf.placeholder(tf.float32, shape=(None,1), name='a')\n",
    "b = tf.placeholder(tf.float32, shape=(None,1), name='b')\n",
    "y = a*b\n",
    "\n",
    "sess = tf.Session()\n",
    "tf.train.SummaryWriter('./logs/tf', sess.graph)\n",
    "sess.run(tf.initialize_all_variables())\n",
    "\n",
    "sess.run(y, {a: [[1],[2]], b: [[3],[4]]})\n",
    "# [[3.],[8.]]"
   ]
  },
  {
   "cell_type": "code",
   "execution_count": null,
   "metadata": {
    "collapsed": false
   },
   "outputs": [],
   "source": [
    "import tensorflow as tf\n",
    "\n",
    "x = tf.placeholder(tf.float32, shape=(None,2), name='x')\n",
    "r = tf.random_normal((1,2), name='r')\n",
    "y = x*r\n",
    "\n",
    "sess = tf.Session()\n",
    "tf.train.SummaryWriter('./logs/tf', sess.graph)\n",
    "sess.run(tf.initialize_all_variables())\n",
    "\n",
    "sess.run(y, {x: [[0,1], [0,-1]]})\n",
    "# [[0,z],[0,-z]]"
   ]
  }
 ],
 "metadata": {
  "kernelspec": {
   "display_name": "Python 3",
   "language": "python",
   "name": "python3"
  },
  "language_info": {
   "codemirror_mode": {
    "name": "ipython",
    "version": 3
   },
   "file_extension": ".py",
   "mimetype": "text/x-python",
   "name": "python",
   "nbconvert_exporter": "python",
   "pygments_lexer": "ipython3",
   "version": "3.5.1"
  }
 },
 "nbformat": 4,
 "nbformat_minor": 0
}
