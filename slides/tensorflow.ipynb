{
 "cells": [
  {
   "cell_type": "markdown",
   "metadata": {},
   "source": [
    "# Code from the slides"
   ]
  },
  {
   "cell_type": "code",
   "execution_count": null,
   "metadata": {
    "collapsed": false
   },
   "outputs": [],
   "source": [
    "import tensorflow as tf\n",
    "\n",
    "a = tf.placeholder(tf.float32, shape=(1))\n",
    "b = tf.placeholder(tf.float32, shape=(1))\n",
    "y = a*b\n",
    "\n",
    "sess = tf.Session()\n",
    "tf.train.SummaryWriter('./logs/tf', sess.graph)\n",
    "sess.run(tf.initialize_all_variables())\n",
    "\n",
    "sess.run(y, {a: [2], b: [3]})\n",
    "# [6.]"
   ]
  },
  {
   "cell_type": "code",
   "execution_count": null,
   "metadata": {
    "collapsed": false
   },
   "outputs": [],
   "source": [
    "import tensorflow as tf\n",
    "\n",
    "a = tf.placeholder(tf.float32, shape=(None,1))\n",
    "b = tf.placeholder(tf.float32, shape=(None,1))\n",
    "y = a*b\n",
    "\n",
    "sess = tf.Session()\n",
    "tf.train.SummaryWriter('./logs/tf', sess.graph)\n",
    "sess.run(tf.initialize_all_variables())\n",
    "\n",
    "sess.run(y, {a: [[2],[3]], b: [[3],[4]]})\n",
    "# [[6.],[12.]]"
   ]
  },
  {
   "cell_type": "code",
   "execution_count": null,
   "metadata": {
    "collapsed": false
   },
   "outputs": [],
   "source": [
    "import tensorflow as tf\n",
    "\n",
    "x = tf.placeholder(tf.float32, shape=(1))\n",
    "y = tf.Variable(tf.zeros((1)))\n",
    "collect = y.assign_add(x)\n",
    "\n",
    "sess = tf.Session()\n",
    "tf.train.SummaryWriter('./logs/tf', sess.graph)\n",
    "sess.run(tf.initialize_all_variables())\n",
    "\n",
    "sess.run(collect, {x: [1]})\n",
    "sess.run(collect, {x: [3]})\n",
    "# [4.]"
   ]
  },
  {
   "cell_type": "code",
   "execution_count": null,
   "metadata": {
    "collapsed": false
   },
   "outputs": [],
   "source": [
    "import tensorflow as tf\n",
    "import numpy as np\n",
    "\n",
    "data = np.random.rand(1000, 2) > 0.5\n",
    "log_operator = lambda x : x[0] and x[1]\n",
    "targets = np.apply_along_axis(log_operator, 1, data)\n",
    "\n",
    "targets.shape = (len(targets), 1) # ensure correct shape\n",
    "data = np.hstack((np.ones((SAMPLES, 1)), data)) # biases"
   ]
  },
  {
   "cell_type": "code",
   "execution_count": null,
   "metadata": {
    "collapsed": false
   },
   "outputs": [],
   "source": [
    "import tensorflow as tf\n",
    "import numpy as np\n",
    "\n",
    "data = np.random.rand(1000, 2) > 0.5\n",
    "log_operator = lambda x : x[0] and x[1]\n",
    "targets = np.apply_along_axis(log_operator, 1, data)\n",
    "\n",
    "targets.shape = (len(targets), 1) # ensure correct shape\n",
    "data = np.hstack((np.ones((data.shape[0], 1)), data)) # biasesc\n",
    "\n",
    "x = tf.placeholder(tf.float32, shape=(None,3), name='inputs')\n",
    "t = tf.placeholder(tf.float32, shape=(None,1), name='targets')\n",
    "\n",
    "with tf.name_scope('neuron'):\n",
    "    W  = tf.Variable(tf.random_normal((3,1)), name='weights')\n",
    "    xW = tf.matmul(x,W)\n",
    "    y  = tf.cast(tf.greater(xW,0), tf.float32)\n",
    "\n",
    "sess = tf.Session()\n",
    "tf.train.SummaryWriter('./logs/tf', sess.graph)\n",
    "sess.run(tf.initialize_all_variables())"
   ]
  },
  {
   "cell_type": "code",
   "execution_count": null,
   "metadata": {
    "collapsed": false
   },
   "outputs": [],
   "source": [
    "import tensorflow as tf\n",
    "import numpy as np\n",
    "\n",
    "data = np.random.rand(1000, 2) > 0.5\n",
    "log_operator = lambda x : x[0] and x[1]\n",
    "targets = np.apply_along_axis(log_operator, 1, data)\n",
    "\n",
    "targets.shape = (len(targets), 1) # ensure correct shape\n",
    "data = np.hstack((np.ones((data.shape[0], 1)), data)) # biasesc\n",
    "\n",
    "x = tf.placeholder(tf.float32, shape=(None,3), name='inputs')\n",
    "t = tf.placeholder(tf.float32, shape=(None,1), name='targets')\n",
    "\n",
    "with tf.name_scope('neuron'):\n",
    "    W  = tf.Variable(tf.random_normal((3,1)), name='weights')\n",
    "    xW = tf.matmul(x,W)c\n",
    "    y  = tf.cast(tf.greater(xW,0), tf.float32)\n",
    "\n",
    "error = tf.sub(t, y, name='error')\n",
    "rate  = tf.constant(0.1, name='rate')\n",
    "delta = tf.mul(rate, tf.matmul(x, error, transpose_a=True), name='delta')\n",
    "train = tf.assign_add(W, delta, name='train')\n",
    "\n",
    "sess = tf.Session()\n",
    "tf.train.SummaryWriter('./logs/tf', sess.graph)\n",
    "sess.run(tf.initialize_all_variables())\n",
    "\n",
    "for i in range(200):\n",
    "    choice = np.random.choice(range(len(targets)), 5, replace=False)\n",
    "    sess.run(train, {x: data[choice], t: targets[choice]})\n",
    "\n",
    "sess.run(y, {x: [[1, .4, .6], [1, .4, .2], [1, .8, .8], [1, .3, .1]]})\n",
    "# [[0.],[0.],[1.],[0.]] (hopefully)"
   ]
  }
 ],
 "metadata": {
  "kernelspec": {
   "display_name": "Python 3",
   "language": "python",
   "name": "python3"
  },
  "language_info": {
   "codemirror_mode": {
    "name": "ipython",
    "version": 3
   },
   "file_extension": ".py",
   "mimetype": "text/x-python",
   "name": "python",
   "nbconvert_exporter": "python",
   "pygments_lexer": "ipython3",
   "version": "3.5.1"
  }
 },
 "nbformat": 4,
 "nbformat_minor": 0
}
