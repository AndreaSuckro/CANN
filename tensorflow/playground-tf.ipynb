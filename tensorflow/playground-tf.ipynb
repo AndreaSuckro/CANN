{
 "cells": [
  {
   "cell_type": "code",
   "execution_count": null,
   "metadata": {
    "collapsed": false
   },
   "outputs": [],
   "source": [
    "%matplotlib notebook\n",
    "import matplotlib.pyplot as plt\n",
    "\n",
    "import numpy as np\n",
    "from numpy.random import normal, random_sample, permutation\n",
    "from numpy.linalg import norm\n",
    "\n",
    "def splitsets(data, targets, split=10):\n",
    "    \"\"\"Splits samples into train and test sets and reshapes target labels as required.\"\"\"\n",
    "    n = data.shape[0]\n",
    "    permut = permutation(n).astype(int)\n",
    "    targets = np.array([targets, np.abs(targets-1)]).T\n",
    "    return zip(*((d[permut[n//split:]], d[permut[:n//split]]) for d in (data, targets)))\n",
    "\n",
    "def viz(data, labels, progress, accuracy):\n",
    "    \"\"\"Function visualizing training progress.\"\"\"\n",
    "    if not hasattr(fig, 'viz'): viz.fig = plt.figure('Result')\n",
    "    viz.fig.suptitle(\"{:3.2%} done with accuracy {:2.2f}\"\n",
    "                     .format((epoch+1)/epochs, accuracy))\n",
    "    plt.scatter(*zip(*data), c=labels, cmap='bwr')\n",
    "    viz.fig.canvas.draw()\n",
    "\n",
    "# Returns n floats uniformly distributed between a and b.\n",
    "uniform = lambda a, b, n=1: (b - a) * random_sample((1, n)) + a"
   ]
  },
  {
   "cell_type": "code",
   "execution_count": null,
   "metadata": {
    "collapsed": false
   },
   "outputs": [],
   "source": [
    "# amount of samples\n",
    "n = 500\n",
    "\n",
    "# circle data\n",
    "radius = 5\n",
    "r = np.append(uniform(0, radius*.5, n//2), uniform(radius*.7, radius, n//2))\n",
    "angle = uniform(0, 2*np.pi, n)\n",
    "xy = np.vstack((r * np.sin(angle), r * np.cos(angle)))\n",
    "t = np.less(norm(xy, axis=0), radius*.5)\n",
    "circle = (xy.T, t)\n",
    "\n",
    "# xor data\n",
    "padding = .3\n",
    "x = uniform(-5, 5, n); x[x>padding] += padding; x[x<padding] -= padding\n",
    "y = uniform(-5, 5, n); y[y>padding] += padding; y[y<padding] -= padding\n",
    "t = np.less(x*y, 0).flatten()\n",
    "xor = (np.vstack((x, y)).T, t)\n",
    "\n",
    "# gauss data\n",
    "gauss = (np.vstack((normal(2, 1, (n//2, 2)), normal(-2, 1, (n//2, 2)))),\n",
    "         np.append(np.ones(n//2), np.zeros(n//2)))\n",
    "\n",
    "# spiral data\n",
    "def genSpiral(deltaT, n, noise = 0):\n",
    "    points = np.arange(n)\n",
    "    r = points / n * 5\n",
    "    t = 1.75 * points / n * 2 * np.pi + deltaT\n",
    "    return np.vstack((r * np.sin(t), r * np.cos(t))).T\n",
    "spiral = (np.vstack((genSpiral(0, n//2), genSpiral(np.pi, n//2))),\n",
    "          np.append(np.ones(n//2), np.zeros(n//2)))\n",
    "\n",
    "# visualize\n",
    "fig = plt.figure('Available Datasets')\n",
    "ax1 = plt.subplot(221); ax1.set_title('circle')\n",
    "ax1.scatter(*zip(*circle[0]), c=circle[1], cmap='bwr')\n",
    "ax2 = plt.subplot(222); ax2.set_title('xor')\n",
    "ax2.scatter(*zip(*xor[0]), c=xor[1], cmap='bwr')\n",
    "ax3 = plt.subplot(223); ax3.set_title('gauss')\n",
    "ax3.scatter(*zip(*gauss[0]), c=gauss[1], cmap='bwr')\n",
    "ax4 = plt.subplot(224); ax4.set_title('spiral')\n",
    "ax4.scatter(*zip(*spiral[0]), c=spiral[1], cmap='bwr')\n",
    "fig.canvas.draw()"
   ]
  },
  {
   "cell_type": "code",
   "execution_count": null,
   "metadata": {
    "collapsed": false
   },
   "outputs": [],
   "source": [
    "# Choose dataset here\n",
    "# circle, xor, gauss, spiral\n",
    "(train_data, train_targets), (test_data, test_targets) = splitsets(*gauss)"
   ]
  },
  {
   "cell_type": "code",
   "execution_count": null,
   "metadata": {
    "collapsed": false,
    "scrolled": false
   },
   "outputs": [],
   "source": [
    "import sys\n",
    "import tensorflow as tf\n",
    "x = tf.placeholder(tf.float32, shape=[None, 2], name='input_layer')\n",
    "\n",
    "W_h = tf.Variable(tf.random_normal([2,8]), name='hidden_weights')\n",
    "b_h = tf.Variable(tf.zeros([8]), name='hidden_bias')\n",
    "h = tf.nn.sigmoid(tf.matmul(x,W_h) + b_h, name='hidden_layer')\n",
    "\n",
    "W_y = tf.Variable(tf.random_normal([8,2]), name='output_weights')\n",
    "b_y = tf.Variable(tf.zeros([2]), name='output_bias')\n",
    "y = tf.nn.sigmoid(tf.matmul(h,W_y) + b_y, name='output_layer')\n",
    "\n",
    "t = tf.placeholder(tf.float32, shape=[None, 2], name='targets')\n",
    "\n",
    "error = tf.reduce_mean(tf.squared_difference(t,y), name='mean_squared_error')\n",
    "optimizer = tf.train.GradientDescentOptimizer(0.03).minimize(error, name='gradient_descent')\n",
    "\n",
    "prediction_check = tf.equal(tf.argmax(y,1), tf.argmax(t,1), name='prediction_check')\n",
    "accuracy = tf.reduce_mean(tf.cast(prediction_check, tf.float32), name='accuracy_measure')\n",
    "\n",
    "sess = tf.Session()\n",
    "sess.run(tf.initialize_all_variables())\n",
    "\n",
    "epochs = 1000\n",
    "for epoch in range(epochs):\n",
    "    split = permutation(len(train_targets))\n",
    "    batch_targets = train_targets[split[:len(split)//5]]\n",
    "    batch_data = train_data[split[:len(split)//5]]\n",
    "    sess.run(optimizer, {x: batch_data, t: batch_targets})\n",
    "    if (epoch+1)%100 == 0:\n",
    "        perf = sess.run(accuracy, {x: test_data, t: test_targets})\n",
    "        predictions = sess.run(y, {x: test_data})\n",
    "        viz(test_data, predictions[:,0], (epoch+1)/epochs, perf)\n",
    "\n",
    "fig.suptitle(\"Training done with accuracy {:2.2f}\".format(perf))\n",
    "perf = sess.run(accuracy, {x: test_data, t: test_targets})\n",
    "predictions = sess.run(y, {x: test_data})\n",
    "viz(test_data, predictions[:,0], 1, perf)"
   ]
  }
 ],
 "metadata": {
  "kernelspec": {
   "display_name": "Python 3",
   "language": "python",
   "name": "python3"
  },
  "language_info": {
   "codemirror_mode": {
    "name": "ipython",
    "version": 3
   },
   "file_extension": ".py",
   "mimetype": "text/x-python",
   "name": "python",
   "nbconvert_exporter": "python",
   "pygments_lexer": "ipython3",
   "version": "3.5.1"
  }
 },
 "nbformat": 4,
 "nbformat_minor": 0
}
