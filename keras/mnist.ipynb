{
 "cells": [
  {
   "cell_type": "markdown",
   "metadata": {},
   "source": [
    "### Keras and MNIST\n",
    "\n",
    "Now we apply our knowledge from the intro file to a real dataset. The famouse MNIST data for digit recognition from handwritten symbols."
   ]
  },
  {
   "cell_type": "code",
   "execution_count": 11,
   "metadata": {
    "collapsed": false
   },
   "outputs": [
    {
     "name": "stderr",
     "output_type": "stream",
     "text": [
      "Using Theano backend.\n"
     ]
    },
    {
     "name": "stdout",
     "output_type": "stream",
     "text": [
      "Downloading data from https://s3.amazonaws.com/img-datasets/mnist.pkl.gz\n",
      "15302656/15296311 [==============================] - 347s   \n"
     ]
    }
   ],
   "source": []
  },
  {
   "cell_type": "code",
   "execution_count": null,
   "metadata": {
    "collapsed": true
   },
   "outputs": [],
   "source": [
    "import keras\n",
    "from keras.layers import Input\n",
    "from keras.models import Model, Sequential\n",
    "from keras.layers.core import Dense, Activation, Merge\n",
    "\n",
    "\n",
    "\n",
    "model_1 = Sequential([\n",
    "    Dense(32, input_dim = 784), # specify the input shape - later layers infer the right shape, use None for any size\n",
    "    Activation('relu'),          \n",
    "    Dense(32),\n",
    "    Activation('softmax')\n",
    "])\n",
    "\n",
    "# different models can be merged together- forming a complex structure\n",
    "model_2 = Sequential() # for this model we use the method-based configuration\n",
    "model_2.add(Dense(32, input_dim = 510))\n",
    "model_2.add(Activation('softmax'))\n",
    "\n",
    "merge_layer = Merge([model_1, model_2], mode='concat')\n",
    "\n",
    "final_model = Sequential()\n",
    "final_model.add(merge_layer)\n",
    "final_model.add(Dense(10, activation='softmax'))\n",
    "\n",
    "print(final_model.summary()) # print a summary of your model \n",
    "#print(final_model.to_json()) # the information can be also accessed via json (or yaml)!\n",
    "\n",
    "# now that we have a complete model let's compile it\n",
    "final_model.compile(optimizer = 'rmsprop',\n",
    "                    loss = 'categorical_crossentropy',\n",
    "                    metrics = ['accuracy'])\n",
    "\n",
    "# import the data set\n",
    "from keras.datasets import mnist\n",
    "\n",
    "(X_train, y_train), (X_test, y_test) = mnist.load_data()\n",
    "\n",
    "final_model.fit([data_model_1, data_model_2], labels, batch_size=32, nb_epoch=10)"
   ]
  }
 ],
 "metadata": {
  "kernelspec": {
   "display_name": "Python 3",
   "language": "python",
   "name": "python3"
  },
  "language_info": {
   "codemirror_mode": {
    "name": "ipython",
    "version": 3
   },
   "file_extension": ".py",
   "mimetype": "text/x-python",
   "name": "python",
   "nbconvert_exporter": "python",
   "pygments_lexer": "ipython3",
   "version": "3.5.1"
  }
 },
 "nbformat": 4,
 "nbformat_minor": 0
}
