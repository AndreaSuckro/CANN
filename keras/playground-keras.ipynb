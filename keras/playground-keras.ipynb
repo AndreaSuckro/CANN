{
 "cells": [
  {
   "cell_type": "code",
   "execution_count": null,
   "metadata": {
    "collapsed": false
   },
   "outputs": [],
   "source": [
    "from keras.layers import Input\n",
    "from keras.models import Model, Sequential\n",
    "from keras.layers.core import Dense, Activation, Merge\n",
    "from keras.optimizers import SGD\n",
    "\n",
    "%matplotlib notebook\n",
    "import matplotlib.pyplot as plt\n",
    "\n",
    "import numpy as np\n",
    "from numpy.random import normal, random_sample\n",
    "from numpy.linalg import norm\n",
    "\n",
    "uniform = lambda a, b, n=1: (b - a) * random_sample((1, n)) + a"
   ]
  },
  {
   "cell_type": "code",
   "execution_count": null,
   "metadata": {
    "collapsed": false
   },
   "outputs": [],
   "source": [
    "n = 200 # datapoints per category\n",
    "\n",
    "# circle data\n",
    "radius = 5\n",
    "r = np.append(uniform(0, radius*.5, n//2), uniform(radius*.7, radius, n//2))\n",
    "angle = uniform(0, 2*np.pi, n)\n",
    "xy = np.vstack((r * np.sin(angle), r * np.cos(angle)))\n",
    "t = np.less(norm(xy, axis=0), radius*.5)\n",
    "circle = (xy.T, t)\n",
    "\n",
    "# xor data\n",
    "padding = .3\n",
    "x = uniform(-5, 5, n); x[x>padding] += padding; x[x<padding] -= padding\n",
    "y = uniform(-5, 5, n); y[y>padding] += padding; y[y<padding] -= padding\n",
    "t = np.less(x*y, 0).flatten()\n",
    "xor = (np.vstack((x, y)).T, t)\n",
    "\n",
    "# gauss data\n",
    "gauss = (np.vstack((normal(2, 1, (n//2, 2)), normal(-2, 1, (n//2, 2)))),\n",
    "         np.append(np.ones(n//2), np.zeros(n//2)))\n",
    "\n",
    "# spiral data\n",
    "def genSpiral(deltaT, n, noise = 0):\n",
    "    points = np.arange(n)\n",
    "    r = points / n * 5\n",
    "    t = 1.75 * points / n * 2 * np.pi + deltaT\n",
    "    return np.vstack((r * np.sin(t), r * np.cos(t))).T\n",
    "spiral = (np.vstack((genSpiral(0, n//2), genSpiral(np.pi, n//2))),\n",
    "          np.append(np.ones(n//2), np.zeros(n//2)))\n",
    "\n",
    "# Visualize\n",
    "fig = plt.figure('Available Datasets')\n",
    "ax1 = plt.subplot(221); ax1.set_title('circle')\n",
    "ax1.scatter(*zip(*circle[0]), c=circle[1], cmap='bwr')\n",
    "ax2 = plt.subplot(222); ax2.set_title('xor')\n",
    "ax2.scatter(*zip(*xor[0]), c=xor[1], cmap='bwr')\n",
    "ax3 = plt.subplot(223); ax3.set_title('gauss')\n",
    "ax3.scatter(*zip(*gauss[0]), c=gauss[1], cmap='bwr')\n",
    "ax4 = plt.subplot(224); ax4.set_title('spiral')\n",
    "ax4.scatter(*zip(*spiral[0]), c=spiral[1], cmap='bwr')\n",
    "fig.canvas.draw()"
   ]
  },
  {
   "cell_type": "code",
   "execution_count": null,
   "metadata": {
    "collapsed": false
   },
   "outputs": [],
   "source": [
    "# Choose dataset here\n",
    "data, targets = circle # circle, xor, gauss, spiral\n",
    "\n",
    "model = Sequential([\n",
    "    Dense(8, input_dim=2),\n",
    "    Activation('relu'),\n",
    "    #Dense(8),\n",
    "    #Activation('relu'),\n",
    "    Dense(2),\n",
    "    Activation('relu'),\n",
    "])\n",
    "\n",
    "print(model.summary())\n",
    "\n",
    "sgd = SGD(lr=0.01, momentum=0.0, decay=0.0, nesterov=False)\n",
    "model.compile(optimizer=sgd, loss='mean_squared_error', metrics=['accuracy'])"
   ]
  },
  {
   "cell_type": "code",
   "execution_count": null,
   "metadata": {
    "collapsed": false,
    "scrolled": true
   },
   "outputs": [],
   "source": [
    "from keras.utils.np_utils import to_categorical\n",
    "\n",
    "model.fit(data, to_categorical(targets, 2), nb_epoch=5000, verbose=0, shuffle=True, validation_split=0)\n",
    "predictions = model.predict(data)\n",
    "\n",
    "fig = plt.figure('Predictions')\n",
    "plt.scatter(*zip(*data), c=predictions[:,0].round(), cmap='bwr')\n",
    "fig.canvas.draw()"
   ]
  }
 ],
 "metadata": {
  "kernelspec": {
   "display_name": "Python 3",
   "language": "python",
   "name": "python3"
  },
  "language_info": {
   "codemirror_mode": {
    "name": "ipython",
    "version": 3
   },
   "file_extension": ".py",
   "mimetype": "text/x-python",
   "name": "python",
   "nbconvert_exporter": "python",
   "pygments_lexer": "ipython3",
   "version": "3.5.1"
  }
 },
 "nbformat": 4,
 "nbformat_minor": 0
}
