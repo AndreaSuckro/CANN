{
 "cells": [
  {
   "cell_type": "code",
   "execution_count": 52,
   "metadata": {
    "collapsed": false
   },
   "outputs": [
    {
     "name": "stdout",
     "output_type": "stream",
     "text": [
      "[[ 0.  0.  0.  0.  0.  0.  0.  0.  1.  0.]]\n",
      "Epoch 1/1\n",
      "1/1 [==============================] - 0s - loss: 2.3086 - acc: 0.0000e+00\n"
     ]
    },
    {
     "data": {
      "text/plain": [
       "<keras.callbacks.History at 0x11891d2e8>"
      ]
     },
     "execution_count": 52,
     "metadata": {},
     "output_type": "execute_result"
    }
   ],
   "source": [
    "import keras\n",
    "from keras.layers import Input\n",
    "from keras.models import Model, Sequential\n",
    "from keras.layers.core import Dense, Activation, Merge\n",
    "\n",
    "\n",
    "model_1 = Sequential([\n",
    "    Dense(32, input_dim = 784), # specify the input shape - later layers infer the right shape, use None for any size\n",
    "    Activation('relu'),          \n",
    "    Dense(32),\n",
    "    Activation('softmax')\n",
    "])\n",
    "\n",
    "# different models can be merged together- forming a complex structure\n",
    "model_2 = Sequential() # for this model we use the method-based configuration\n",
    "model_2.add(Dense(32, input_dim = 510))\n",
    "model_2.add(Activation('softmax'))\n",
    "\n",
    "merge_layer = Merge([model_1, model_2], mode='ave')\n",
    "\n",
    "final_model = Sequential()\n",
    "final_model.add(merge_layer)\n",
    "final_model.add(Dense(10, activation='softmax'))\n",
    "\n",
    "#print(final_model.summary()) # print a summary of your model \n",
    "#print(final_model.to_json()) # the information can be also accessed via json (or yaml)!\n",
    "\n",
    "# now that we have a complete model let's compile it\n",
    "final_model.compile(optimizer = 'rmsprop',\n",
    "                    loss = 'categorical_crossentropy',\n",
    "                    metrics = ['accuracy'])\n",
    "\n",
    "# specify training data with labels\n",
    "import numpy as np\n",
    "from keras.utils.np_utils import to_categorical\n",
    "\n",
    "data_model_1 = np.random.random((1, 784))\n",
    "#print(data_model_1.shape)\n",
    "data_model_2 = np.random.random((1, 510))\n",
    "\n",
    "labels = np.random.randint(10, size=(1, 1))\n",
    "labels = to_categorical(labels, 10)\n",
    "print(labels)\n",
    "\n",
    "final_model.fit([data_model_1, data_model_2], labels, batch_size=1, nb_epoch=1)"
   ]
  },
  {
   "cell_type": "code",
   "execution_count": 63,
   "metadata": {
    "collapsed": false
   },
   "outputs": [
    {
     "name": "stdout",
     "output_type": "stream",
     "text": [
      "0\n",
      "Epoch 1/1\n",
      "1/1 [==============================] - 0s - loss: 15.9424 - acc: 0.0000e+00\n"
     ]
    },
    {
     "data": {
      "text/plain": [
       "<keras.callbacks.History at 0x1195fac18>"
      ]
     },
     "execution_count": 63,
     "metadata": {},
     "output_type": "execute_result"
    }
   ],
   "source": [
    "import keras\n",
    "from keras.layers import Input\n",
    "from keras.models import Model, Sequential\n",
    "from keras.layers.core import Dense, Activation, Merge\n",
    "from keras.optimizers import SGD\n",
    "\n",
    "\n",
    "model = Sequential()\n",
    "model.add(Dense(80, input_dim=198, activation='softmax'))\n",
    "model.add(Dense(1, activation='softmax'))\n",
    "model.compile(optimizer='rmsprop',\n",
    "              loss='binary_crossentropy',\n",
    "              metrics=['accuracy'])\n",
    "\n",
    "# generate dummy data\n",
    "import numpy as np\n",
    "data = np.random.random((1, 198))\n",
    "labels = np.random.randint(2, size=(1, 1))\n",
    "\n",
    "print(labels[0,0])\n",
    "\n",
    "# train the model, iterating on the data in batches\n",
    "# of 32 samples\n",
    "model.fit(data, labels, nb_epoch=1, batch_size=1)"
   ]
  },
  {
   "cell_type": "code",
   "execution_count": null,
   "metadata": {
    "collapsed": true
   },
   "outputs": [],
   "source": []
  }
 ],
 "metadata": {
  "kernelspec": {
   "display_name": "Python 3",
   "language": "python",
   "name": "python3"
  },
  "language_info": {
   "codemirror_mode": {
    "name": "ipython",
    "version": 3
   },
   "file_extension": ".py",
   "mimetype": "text/x-python",
   "name": "python",
   "nbconvert_exporter": "python",
   "pygments_lexer": "ipython3",
   "version": "3.5.1"
  }
 },
 "nbformat": 4,
 "nbformat_minor": 0
}
